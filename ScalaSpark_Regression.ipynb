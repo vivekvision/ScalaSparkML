{
 "cells": [
  {
   "cell_type": "code",
   "execution_count": 50,
   "id": "3719f740-4be8-4097-9174-d14d8b626a7b",
   "metadata": {},
   "outputs": [],
   "source": [
    "// Step 1 Choose model\n",
    "// Step 2 Format Data-frame into two columns : label column & Array of features columns\n",
    "// Lable column if its supervised learning \n",
    "// if unsupervised learning - only one column : array of features\n",
    "// convert all the columns of features into a single column consisting of an array of all those features - "
   ]
  },
  {
   "cell_type": "code",
   "execution_count": 51,
   "id": "e8d4d26b-80e6-4846-8b0f-65458afce0a1",
   "metadata": {},
   "outputs": [],
   "source": [
    "// Pipeline object allows to easily set up a pipeline of data transformations, model selections and parameter tuning \n",
    "// It makes syntax much cleaner "
   ]
  },
  {
   "cell_type": "markdown",
   "id": "9d53de35-91c6-41f3-8c1f-77be42b3342c",
   "metadata": {},
   "source": [
    "## Regression "
   ]
  },
  {
   "cell_type": "code",
   "execution_count": 52,
   "id": "d92b9dca-1706-4345-a1f7-169da17a7992",
   "metadata": {},
   "outputs": [
    {
     "data": {
      "text/plain": [
       "import org.apache.log4j._\n"
      ]
     },
     "execution_count": 52,
     "metadata": {},
     "output_type": "execute_result"
    }
   ],
   "source": [
    "// To see less warnings\n",
    "import org.apache.log4j._\n",
    "Logger.getLogger(\"org\").setLevel(Level.ERROR)"
   ]
  },
  {
   "cell_type": "code",
   "execution_count": 53,
   "id": "cc4b5624-2a70-47fb-8283-808caeed20bb",
   "metadata": {},
   "outputs": [
    {
     "data": {
      "text/plain": [
       "import org.apache.spark.ml.evaluation.RegressionEvaluator\n",
       "import org.apache.spark.ml.regression.LinearRegression\n",
       "import org.apache.spark.ml.tuning.{ParamGridBuilder, TrainValidationSplit}\n"
      ]
     },
     "execution_count": 53,
     "metadata": {},
     "output_type": "execute_result"
    }
   ],
   "source": [
    "import org.apache.spark.ml.evaluation.RegressionEvaluator\n",
    "import org.apache.spark.ml.regression.LinearRegression\n",
    "import org.apache.spark.ml.tuning.{ParamGridBuilder, TrainValidationSplit}"
   ]
  },
  {
   "cell_type": "code",
   "execution_count": 54,
   "id": "bf283e9a-9762-4937-b430-8e1b7871603d",
   "metadata": {},
   "outputs": [
    {
     "data": {
      "text/plain": [
       "import org.apache.spark.sql.SparkSession\n",
       "import org.apache.spark.ml.regression.LinearRegression\n",
       "spark: org.apache.spark.sql.SparkSession = org.apache.spark.sql.SparkSession@22e6da4f\n",
       "import spark.implicits._\n"
      ]
     },
     "execution_count": 54,
     "metadata": {},
     "output_type": "execute_result"
    }
   ],
   "source": [
    "import org.apache.spark.sql.SparkSession\n",
    "import org.apache.spark.ml.regression.LinearRegression\n",
    "\n",
    "val spark = SparkSession.builder()\n",
    "                        .appName(\"LinearRegExample\")\n",
    "                        .config(\"spark.master\", \"local\")\n",
    "                        .getOrCreate()\n",
    "\n",
    "import spark.implicits._"
   ]
  },
  {
   "cell_type": "code",
   "execution_count": 55,
   "id": "46c67b92-1577-4c65-9f36-09f562efb482",
   "metadata": {},
   "outputs": [
    {
     "name": "stdout",
     "output_type": "stream",
     "text": [
      "root\n",
      " |-- Avg Area Income: double (nullable = true)\n",
      " |-- Avg Area House Age: double (nullable = true)\n",
      " |-- Avg Area Number of Rooms: double (nullable = true)\n",
      " |-- Avg Area Number of Bedrooms: double (nullable = true)\n",
      " |-- Area Population: double (nullable = true)\n",
      " |-- Price: double (nullable = true)\n",
      "\n"
     ]
    },
    {
     "data": {
      "text/plain": [
       "data: org.apache.spark.sql.DataFrame = [Avg Area Income: double, Avg Area House Age: double ... 4 more fields]\n"
      ]
     },
     "execution_count": 55,
     "metadata": {},
     "output_type": "execute_result"
    }
   ],
   "source": [
    "// Prepare training and test data.\n",
    "val data = spark.read.option(\"header\",\"true\").option(\"inferSchema\",\"true\").format(\"csv\").load(\"USA_Housing.csv\")\n",
    "\n",
    "// Check out the Data\n",
    "data.printSchema()"
   ]
  },
  {
   "cell_type": "code",
   "execution_count": 56,
   "id": "b75c117f-c4d5-4226-925b-9d10014b1227",
   "metadata": {},
   "outputs": [],
   "source": [
    "// Setting Up DataFrame for Machine Learning "
   ]
  },
  {
   "cell_type": "code",
   "execution_count": 57,
   "id": "8bba779d-34a3-4047-9e47-0c1fdabcfa47",
   "metadata": {},
   "outputs": [
    {
     "data": {
      "text/plain": [
       "import org.apache.spark.ml.feature.VectorAssembler\n",
       "import org.apache.spark.ml.linalg.Vectors\n"
      ]
     },
     "execution_count": 57,
     "metadata": {},
     "output_type": "execute_result"
    }
   ],
   "source": [
    "// This will allow us to join multiple feature columns\n",
    "// into a single column of an array of feautre values\n",
    "import org.apache.spark.ml.feature.VectorAssembler\n",
    "import org.apache.spark.ml.linalg.Vectors"
   ]
  },
  {
   "cell_type": "code",
   "execution_count": 58,
   "id": "9e50f13d-02f1-48a4-9c1e-eacd435956e8",
   "metadata": {},
   "outputs": [
    {
     "data": {
      "text/plain": [
       "df: org.apache.spark.sql.DataFrame = [Price: double, Avg Area Income: double ... 3 more fields]\n"
      ]
     },
     "execution_count": 58,
     "metadata": {},
     "output_type": "execute_result"
    }
   ],
   "source": [
    "// Rename Price to label column for naming convention.\n",
    "// Grab only numerical columns from the data\n",
    "var df = data.select($\"Price\", $\"Avg Area Income\", $\"Avg Area House Age\", $\"Avg Area Number of Rooms\", $\"Area Population\")"
   ]
  },
  {
   "cell_type": "code",
   "execution_count": 59,
   "id": "efd4ce98-f723-4d09-8fa0-c36b188654fb",
   "metadata": {},
   "outputs": [
    {
     "data": {
      "text/plain": [
       "df: org.apache.spark.sql.DataFrame = [Price: double, Avg Area Income: double ... 3 more fields]\n",
       "df: org.apache.spark.sql.DataFrame = [Price: double, Avg Area Income: double ... 3 more fields]\n",
       "df: org.apache.spark.sql.DataFrame = [Price: double, Avg Area Income: double ... 3 more fields]\n",
       "df: org.apache.spark.sql.DataFrame = [Price: double, Avg Area Income: double ... 3 more fields]\n",
       "df: org.apache.spark.sql.DataFrame = [Price: double, Avg Area Income: double ... 3 more fields]\n"
      ]
     },
     "execution_count": 59,
     "metadata": {},
     "output_type": "execute_result"
    }
   ],
   "source": [
    "// Convert to double \n",
    "df = df.withColumn(\"Avg Area Income\", df(\"Avg Area Income\").cast(\"double\"))\n",
    "df = df.withColumn(\"Avg Area House Age\", df(\"Avg Area Income\").cast(\"double\"))\n",
    "df = df.withColumn(\"Avg Area Number of Rooms\", df(\"Avg Area Number of Rooms\").cast(\"double\"))\n",
    "df = df.withColumn(\"Area Population\", df(\"Area Population\").cast(\"double\"))\n",
    "\n",
    "df = df.withColumn(\"Price\", df(\"Price\").cast(\"double\"))"
   ]
  },
  {
   "cell_type": "code",
   "execution_count": 60,
   "id": "2f1e17ab-c9c6-42db-9795-6ddc803d8e8f",
   "metadata": {},
   "outputs": [
    {
     "data": {
      "text/plain": [
       "df: org.apache.spark.sql.DataFrame = [label: double, Avg Area Income: double ... 3 more fields]\n"
      ]
     },
     "execution_count": 60,
     "metadata": {},
     "output_type": "execute_result"
    }
   ],
   "source": [
    "df = df.withColumnRenamed(\"Price\", \"label\")"
   ]
  },
  {
   "cell_type": "code",
   "execution_count": 61,
   "id": "6d0e2e00-589c-477d-bf66-7ea5a5cc40c4",
   "metadata": {},
   "outputs": [
    {
     "data": {
      "text/plain": [
       "assembler: org.apache.spark.ml.feature.VectorAssembler = VectorAssembler: uid=vecAssembler_23f0051ac170, handleInvalid=error, numInputCols=4\n",
       "training_df: org.apache.spark.sql.DataFrame = [label: double, features: vector]\n"
      ]
     },
     "execution_count": 61,
     "metadata": {},
     "output_type": "execute_result"
    }
   ],
   "source": [
    "// An assembler converts the input values to a vector\n",
    "// A vector is what the ML algorithm reads to train a model\n",
    "\n",
    "// Set the input columns from which we are supposed to read the values\n",
    "// Set the name of the column where the vector will be stored\n",
    "val assembler = new VectorAssembler().setInputCols(Array(\"Avg Area Income\",\"Avg Area House Age\",\"Avg Area Number of Rooms\",\"Area Population\")).setOutputCol(\"features\")\n",
    "\n",
    "// Use the assembler to transform our DataFrame to the two columns\n",
    "val training_df = assembler.transform(df).select($\"label\", $\"features\")"
   ]
  },
  {
   "cell_type": "code",
   "execution_count": 62,
   "id": "34f9e052-dfc6-4376-8cff-b0c2a6179284",
   "metadata": {},
   "outputs": [
    {
     "data": {
      "text/plain": [
       "lr: org.apache.spark.ml.regression.LinearRegression = linReg_493169b9e0e7\n"
      ]
     },
     "execution_count": 62,
     "metadata": {},
     "output_type": "execute_result"
    }
   ],
   "source": [
    "// Create a Linear Regression Model object\n",
    "val lr = new LinearRegression()"
   ]
  },
  {
   "cell_type": "code",
   "execution_count": 63,
   "id": "12793abf-3155-4d9f-ac18-665c39eebc4a",
   "metadata": {},
   "outputs": [
    {
     "data": {
      "text/plain": [
       "lrModel: org.apache.spark.ml.regression.LinearRegressionModel = LinearRegressionModel: uid=linReg_493169b9e0e7, numFeatures=4\n"
      ]
     },
     "execution_count": 63,
     "metadata": {},
     "output_type": "execute_result"
    }
   ],
   "source": [
    "var lrModel = lr.fit(training_df)"
   ]
  },
  {
   "cell_type": "code",
   "execution_count": 64,
   "id": "17aa4755-38a5-42bd-b5a9-4888dc0186f3",
   "metadata": {},
   "outputs": [
    {
     "name": "stdout",
     "output_type": "stream",
     "text": [
      "Coefficients: [10.772761541740392,10.772761541740392,120060.55511403256,14.88564417519396] Intercept: -1622861.7041208127\n"
     ]
    }
   ],
   "source": [
    "// print coefficients & intercept for linear regression\n",
    "println(s\"Coefficients: ${lrModel.coefficients} Intercept: ${lrModel.intercept}\")"
   ]
  },
  {
   "cell_type": "code",
   "execution_count": 65,
   "id": "b767a49b-7012-479e-a846-467dcdd62ebd",
   "metadata": {},
   "outputs": [
    {
     "name": "stdout",
     "output_type": "stream",
     "text": [
      "numIterations: 7\n",
      "objectiveHistory: List(0.5, 0.31300164069390934, 0.15343625620611956, 0.14968401606775306, 0.14912193049893396, 0.1491218893453672, 0.14912188933015624, 0.14912188933013049)\n"
     ]
    },
    {
     "data": {
      "text/plain": [
       "trainingSummary: org.apache.spark.ml.regression.LinearRegressionTrainingSummary = org.apache.spark.ml.regression.LinearRegressionTrainingSummary@4411b751\n"
      ]
     },
     "execution_count": 65,
     "metadata": {},
     "output_type": "execute_result"
    }
   ],
   "source": [
    "// Summarize the model over the training set and print out some metrics\n",
    "\n",
    "val trainingSummary = lrModel.summary\n",
    "\n",
    "println(s\"numIterations: ${trainingSummary.totalIterations}\")\n",
    "println(s\"objectiveHistory: ${trainingSummary.objectiveHistory.toList}\")"
   ]
  },
  {
   "cell_type": "code",
   "execution_count": 66,
   "id": "435f4701-3121-4f2c-a11a-875d0264e551",
   "metadata": {},
   "outputs": [
    {
     "data": {
      "text/plain": [
       "res24: Int = 7\n"
      ]
     },
     "execution_count": 66,
     "metadata": {},
     "output_type": "execute_result"
    }
   ],
   "source": [
    "trainingSummary.totalIterations"
   ]
  },
  {
   "cell_type": "code",
   "execution_count": 67,
   "id": "34e372ba-c67a-4c19-941c-2a0304f0e548",
   "metadata": {},
   "outputs": [
    {
     "data": {
      "text/plain": [
       "res25: List[Double] = List(0.5, 0.31300164069390934, 0.15343625620611956, 0.14968401606775306, 0.14912193049893396, 0.1491218893453672, 0.14912188933015624, 0.14912188933013049)\n"
      ]
     },
     "execution_count": 67,
     "metadata": {},
     "output_type": "execute_result"
    }
   ],
   "source": [
    "trainingSummary.objectiveHistory.toList"
   ]
  },
  {
   "cell_type": "code",
   "execution_count": 68,
   "id": "f2b9ab42-de4b-4cec-949a-0299f66e8ab8",
   "metadata": {},
   "outputs": [
    {
     "name": "stdout",
     "output_type": "stream",
     "text": [
      "+-------------------+\n",
      "|          residuals|\n",
      "+-------------------+\n",
      "|-217142.16841915203|\n",
      "|  15190.99821847654|\n",
      "| -209669.7105461515|\n",
      "|  337196.3682716482|\n",
      "| -372041.7669418452|\n",
      "|-167507.52370156976|\n",
      "|-152736.92664057482|\n",
      "| 169323.43214833923|\n",
      "| -74453.53638159565|\n",
      "|-174533.87658723188|\n",
      "| 286500.92047974723|\n",
      "| -211273.4675923239|\n",
      "| 370409.07444726955|\n",
      "|  137103.1896799663|\n",
      "| -7430.190298326546|\n",
      "| -24089.82271954883|\n",
      "|-115775.43270880845|\n",
      "|-161023.04202414374|\n",
      "|-120707.78718792007|\n",
      "|-204347.53636440332|\n",
      "+-------------------+\n",
      "only showing top 20 rows\n",
      "\n"
     ]
    }
   ],
   "source": [
    " trainingSummary.residuals.show()"
   ]
  },
  {
   "cell_type": "code",
   "execution_count": 69,
   "id": "f91420c1-478d-430f-a230-e3b74d21969b",
   "metadata": {},
   "outputs": [
    {
     "name": "stdout",
     "output_type": "stream",
     "text": [
      "RMSE: 192824.25387277597\n",
      "r2: 0.7017562213397575\n"
     ]
    }
   ],
   "source": [
    "println(s\"RMSE: ${trainingSummary.rootMeanSquaredError}\")\n",
    "println(s\"r2: ${trainingSummary.r2}\")"
   ]
  },
  {
   "cell_type": "code",
   "execution_count": 71,
   "id": "e265fd76-2e2a-4e92-8b2a-531b3ae0cd1f",
   "metadata": {},
   "outputs": [],
   "source": [
    "spark.stop()"
   ]
  },
  {
   "cell_type": "code",
   "execution_count": null,
   "id": "0a006580-4bb8-403e-a746-ca46076e42cb",
   "metadata": {},
   "outputs": [],
   "source": []
  }
 ],
 "metadata": {
  "kernelspec": {
   "display_name": "spylon-kernel",
   "language": "scala",
   "name": "spylon-kernel"
  },
  "language_info": {
   "codemirror_mode": "text/x-scala",
   "file_extension": ".scala",
   "help_links": [
    {
     "text": "MetaKernel Magics",
     "url": "https://metakernel.readthedocs.io/en/latest/source/README.html"
    }
   ],
   "mimetype": "text/x-scala",
   "name": "scala",
   "pygments_lexer": "scala",
   "version": "0.4.1"
  }
 },
 "nbformat": 4,
 "nbformat_minor": 5
}
