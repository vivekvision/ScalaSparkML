{
 "cells": [
  {
   "cell_type": "code",
   "execution_count": 9,
   "id": "ab2766eb-2d6f-4a9e-8a9f-4bca9e379ff7",
   "metadata": {},
   "outputs": [],
   "source": [
    "// Source of the Data\n",
    "//http://archive.ics.uci.edu/ml/datasets/Wholesale+customers\n",
    "\n",
    "// info on the data:\n",
    "// 1)FRESH: annual spending (m.u.) on fresh products (Continuous);\n",
    "// 2)MILK: annual spending (m.u.) on milk products (Continuous);\n",
    "// 3)GROCERY: annual spending (m.u.)on grocery products (Continuous);\n",
    "// 4)FROZEN: annual spending (m.u.)on frozen products (Continuous)\n",
    "// 5)DETERGENTS_PAPER: annual spending (m.u.) on detergents and paper products (Continuous)\n",
    "// 6)DELICATESSEN: annual spending (m.u.)on and delicatessen products (Continuous);"
   ]
  },
  {
   "cell_type": "code",
   "execution_count": 10,
   "id": "2a4effa3-c2fa-4515-8bca-fee8f2bf5e98",
   "metadata": {},
   "outputs": [
    {
     "data": {
      "text/plain": [
       "import org.apache.log4j._\n",
       "import org.apache.spark.sql.SparkSession\n",
       "spark: org.apache.spark.sql.SparkSession = org.apache.spark.sql.SparkSession@2562db86\n",
       "import spark.implicits._\n"
      ]
     },
     "execution_count": 10,
     "metadata": {},
     "output_type": "execute_result"
    }
   ],
   "source": [
    "// To see less warnings\n",
    "import org.apache.log4j._\n",
    "Logger.getLogger(\"org\").setLevel(Level.ERROR)\n",
    "\n",
    "// Import SparkSession\n",
    "import org.apache.spark.sql.SparkSession\n",
    "\n",
    "val spark = SparkSession.builder()\n",
    "                        .appName(\"Kmean\")\n",
    "                        .config(\"spark.master\", \"local\")\n",
    "                        .getOrCreate()\n",
    "\n",
    "import spark.implicits._"
   ]
  },
  {
   "cell_type": "code",
   "execution_count": 11,
   "id": "38120720-ed29-4624-a8ec-6fcd9e0a630d",
   "metadata": {},
   "outputs": [
    {
     "data": {
      "text/plain": [
       "import org.apache.spark.ml.clustering.KMeans\n",
       "dataset: org.apache.spark.sql.DataFrame = [Channel: int, Region: int ... 6 more fields]\n"
      ]
     },
     "execution_count": 11,
     "metadata": {},
     "output_type": "execute_result"
    }
   ],
   "source": [
    "// Import Kmeans clustering Algorithm\n",
    "import org.apache.spark.ml.clustering.KMeans\n",
    "\n",
    "// Load the Wholesale Customers Data\n",
    "val dataset = spark.read.option(\"header\",\"true\").option(\"inferSchema\",\"true\").csv(\"Wholesale customers data.csv\")"
   ]
  },
  {
   "cell_type": "code",
   "execution_count": 12,
   "id": "d4ebd20e-8fcd-4cb7-8c87-839d7397d377",
   "metadata": {},
   "outputs": [
    {
     "data": {
      "text/plain": [
       "feature_data: org.apache.spark.sql.DataFrame = [Fresh: int, Milk: int ... 4 more fields]\n",
       "import org.apache.spark.ml.feature.{VectorAssembler, StringIndexer, VectorIndexer, OneHotEncoder}\n",
       "import org.apache.spark.ml.linalg.Vectors\n",
       "assembler: org.apache.spark.ml.feature.VectorAssembler = VectorAssembler: uid=vecAssembler_b76289929921, handleInvalid=error, numInputCols=6\n",
       "training_data: org.apache.spark.sql.DataFrame = [features: vector]\n",
       "kmeans: org.apache.spark.ml.clustering.KMeans = kmeans_4effe0af2844\n",
       "model: org.apache.spark.ml.clustering.KMeansModel = KMeansModel: uid=kmeans_4effe0af2844, k=3, distanceMeasure=euclidean, numFeatures=6\n"
      ]
     },
     "execution_count": 12,
     "metadata": {},
     "output_type": "execute_result"
    }
   ],
   "source": [
    "\n",
    "// Select the following columns for the training set:\n",
    "// Fresh, Milk, Grocery, Frozen, Detergents_Paper, Delicassen\n",
    "// Cal this new subset feature_data\n",
    "val feature_data = dataset.select($\"Fresh\", $\"Milk\", $\"Grocery\", $\"Frozen\", $\"Detergents_Paper\", $\"Delicassen\")\n",
    "\n",
    "\n",
    "// Import VectorAssembler and Vectors\n",
    "import org.apache.spark.ml.feature.{VectorAssembler,StringIndexer,VectorIndexer,OneHotEncoder}\n",
    "import org.apache.spark.ml.linalg.Vectors\n",
    "\n",
    "// Create a new VectorAssembler object called assembler for the feature\n",
    "// columns as the input Set the output column to be called features\n",
    "// Remember there is no Label column\n",
    "val assembler = new VectorAssembler().setInputCols(Array(\"Fresh\", \"Milk\", \"Grocery\", \"Frozen\", \"Detergents_Paper\", \"Delicassen\")).setOutputCol(\"features\")\n",
    "\n",
    "// Use the assembler object to transform the feature_data\n",
    "// Call this new data training_data\n",
    "val training_data = assembler.transform(feature_data).select(\"features\")\n",
    "\n",
    "// Create a Kmeans Model with K=3\n",
    "val kmeans = new KMeans().setK(3).setSeed(1L)\n",
    "\n",
    "// Fit that model to the training_data\n",
    "val model = kmeans.fit(training_data)\n",
    "\n"
   ]
  },
  {
   "cell_type": "code",
   "execution_count": null,
   "id": "d8af692c-fb93-457a-8bca-8a8101a2c16c",
   "metadata": {},
   "outputs": [],
   "source": []
  },
  {
   "cell_type": "code",
   "execution_count": null,
   "id": "50701f04-4c0f-4d9c-82c7-4a51880caf2b",
   "metadata": {},
   "outputs": [],
   "source": []
  },
  {
   "cell_type": "code",
   "execution_count": 13,
   "id": "1a136cf9-761d-4350-9959-5418ddd8a8cc",
   "metadata": {},
   "outputs": [
    {
     "name": "stdout",
     "output_type": "stream",
     "text": [
      "Cluster Centers: \n",
      "[7390.958456973294,4439.768545994066,6292.19584569733,2495.53412462908,2238.6528189910982,1158.4480712166173]\n",
      "[32768.013333333336,4827.68,5723.146666666667,5535.92,1074.1200000000001,2066.6400000000003]\n",
      "[11849.17857142857,24717.10714285714,33887.71428571428,3409.3214285714284,15459.714285714284,4483.857142857142]\n"
     ]
    }
   ],
   "source": [
    "// Shows the result.\n",
    "println(\"Cluster Centers: \")\n",
    "model.clusterCenters.foreach(println)\n"
   ]
  },
  {
   "cell_type": "code",
   "execution_count": null,
   "id": "9c54e12c-19d9-455c-b332-e99bbc48d7f5",
   "metadata": {},
   "outputs": [],
   "source": []
  }
 ],
 "metadata": {
  "kernelspec": {
   "display_name": "spylon-kernel",
   "language": "scala",
   "name": "spylon-kernel"
  },
  "language_info": {
   "codemirror_mode": "text/x-scala",
   "file_extension": ".scala",
   "help_links": [
    {
     "text": "MetaKernel Magics",
     "url": "https://metakernel.readthedocs.io/en/latest/source/README.html"
    }
   ],
   "mimetype": "text/x-scala",
   "name": "scala",
   "pygments_lexer": "scala",
   "version": "0.4.1"
  }
 },
 "nbformat": 4,
 "nbformat_minor": 5
}
