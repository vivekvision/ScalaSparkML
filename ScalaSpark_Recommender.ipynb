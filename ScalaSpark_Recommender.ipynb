{
 "cells": [
  {
   "cell_type": "code",
   "execution_count": 1,
   "id": "ca4e00df-6a25-4327-a544-b4d670f0b873",
   "metadata": {},
   "outputs": [
    {
     "data": {
      "text/plain": [
       "Intitializing Scala interpreter ..."
      ]
     },
     "metadata": {},
     "output_type": "display_data"
    },
    {
     "data": {
      "text/plain": [
       "Spark Web UI available at http://74e4be6e0134:4045\n",
       "SparkContext available as 'sc' (version = 3.2.1, master = local[*], app id = local-1651749247805)\n",
       "SparkSession available as 'spark'\n"
      ]
     },
     "metadata": {},
     "output_type": "display_data"
    }
   ],
   "source": [
    "// Recommender Systems\n",
    "// Two most common types of recommender systems are Content-Based and Collaborative Filtering (CF)\n",
    "\n",
    "// Collaborative filtering produces recommendations based on the knowledge of users' attitude to items. It uses \n",
    "// wisdom of the crowd to recommend items\n",
    "\n",
    "// Content-based recommender systems focus on the attributes of the items and give you recommendations based on the similarity between them\n"
   ]
  },
  {
   "cell_type": "markdown",
   "id": "b53421d7-03c0-4d35-ab7f-18cfacdec369",
   "metadata": {},
   "source": [
    "In gerneral, Collaborative filtering (CF) is more commonly used than content-based systems because it usually gives better resutls \n",
    "and is relatively easy to understand (from an overall implementation perspective)"
   ]
  },
  {
   "cell_type": "code",
   "execution_count": 3,
   "id": "ae052dc7-f038-42f8-95ba-bef24ee42b53",
   "metadata": {},
   "outputs": [
    {
     "name": "stdout",
     "output_type": "stream",
     "text": [
      "root\n",
      " |-- userId: integer (nullable = true)\n",
      " |-- movieId: integer (nullable = true)\n",
      " |-- rating: double (nullable = true)\n",
      "\n",
      "+-------+--------------------------+\n",
      "|summary|abs((rating - prediction))|\n",
      "+-------+--------------------------+\n",
      "|  count|                     19179|\n",
      "|   mean|        0.8278953580014744|\n",
      "| stddev|        0.7243543891232413|\n",
      "|    min|       1.10626220703125E-4|\n",
      "|    max|         6.501978397369385|\n",
      "+-------+--------------------------+\n",
      "\n"
     ]
    },
    {
     "data": {
      "text/plain": [
       "import org.apache.spark.ml.evaluation.RegressionEvaluator\n",
       "import org.apache.spark.ml.recommendation.ALS\n",
       "ratings: org.apache.spark.sql.DataFrame = [userId: int, movieId: int ... 1 more field]\n",
       "training: org.apache.spark.sql.Dataset[org.apache.spark.sql.Row] = [userId: int, movieId: int ... 1 more field]\n",
       "test: org.apache.spark.sql.Dataset[org.apache.spark.sql.Row] = [userId: int, movieId: int ... 1 more field]\n",
       "als: org.apache.spark.ml.recommendation.ALS = als_004f1e3e5f2c\n",
       "model: org.apache.spark.ml.recommendation.ALSModel = ALSModel: uid=als_004f1e3e5f2c, rank=10\n",
       "predictions: org.apache.spark.sql.DataFrame = [userId: int, movieId: int ... 2 more fields]\n",
       "import org.apache.spark.sql.functions._\n",
       "error: org.apache.spark.sql.DataFrame = [abs((rating - prediction)): double]\n"
      ]
     },
     "execution_count": 3,
     "metadata": {},
     "output_type": "execute_result"
    }
   ],
   "source": [
    "import org.apache.spark.ml.evaluation.RegressionEvaluator\n",
    "import org.apache.spark.ml.recommendation.ALS\n",
    "\n",
    "val ratings = spark.read.option(\"header\",\"true\").option(\"inferSchema\",\"true\").csv(\"movie_ratings.csv\")\n",
    "\n",
    "ratings.head()\n",
    "ratings.printSchema()\n",
    "\n",
    "val Array(training, test) = ratings.randomSplit(Array(0.8, 0.2))\n",
    "\n",
    "// Build the recommendation model using ALS on the training data\n",
    "val als = new ALS()\n",
    "  .setMaxIter(5)\n",
    "  .setRegParam(0.01)\n",
    "  .setUserCol(\"userId\")\n",
    "  .setItemCol(\"movieId\")\n",
    "  .setRatingCol(\"rating\")\n",
    "val model = als.fit(training)\n",
    "\n",
    "// Evaluate the model by computing the average error from real rating\n",
    "val predictions = model.transform(test)\n",
    "\n",
    "// import to use abs()\n",
    "import org.apache.spark.sql.functions._\n",
    "val error = predictions.select(abs($\"rating\"-$\"prediction\"))\n",
    "\n",
    "// Drop NaNs\n",
    "error.na.drop().describe().show()\n"
   ]
  },
  {
   "cell_type": "code",
   "execution_count": 4,
   "id": "ac252dc1-1393-49ac-b311-b333758ea670",
   "metadata": {},
   "outputs": [
    {
     "name": "stdout",
     "output_type": "stream",
     "text": [
      "+------+-------+------+----------+\n",
      "|userId|movieId|rating|prediction|\n",
      "+------+-------+------+----------+\n",
      "|     1|   2294|   2.0| 1.9593182|\n",
      "|     2|    372|   3.0|  4.620823|\n",
      "|     2|    319|   1.0|  5.221806|\n",
      "|     2|    225|   3.0|   3.78617|\n",
      "|     2|    168|   3.0|  5.548937|\n",
      "|     1|   2968|   1.0| 2.2339349|\n",
      "|     1|   3671|   3.0| 2.7036228|\n",
      "|     2|    720|   4.0|  2.949804|\n",
      "|     3|    247|   3.5| 3.3029373|\n",
      "|     2|    314|   4.0| 6.0166364|\n",
      "|     2|    509|   4.0|  4.419809|\n",
      "|     3|    527|   3.0| 3.8954492|\n",
      "|     2|    261|   4.0|  4.357129|\n",
      "|     3|    356|   5.0|   3.58261|\n",
      "|     3|    866|   3.0|  3.367491|\n",
      "|     3|    595|   2.0| 3.4563918|\n",
      "|     2|    382|   3.0|0.56606513|\n",
      "|     2|    150|   5.0| 2.6441379|\n",
      "|     2|    508|   4.0| 2.4963877|\n",
      "|     2|    454|   4.0| 2.7321844|\n",
      "+------+-------+------+----------+\n",
      "only showing top 20 rows\n",
      "\n"
     ]
    }
   ],
   "source": [
    "predictions.show()"
   ]
  }
 ],
 "metadata": {
  "kernelspec": {
   "display_name": "spylon-kernel",
   "language": "scala",
   "name": "spylon-kernel"
  },
  "language_info": {
   "codemirror_mode": "text/x-scala",
   "file_extension": ".scala",
   "help_links": [
    {
     "text": "MetaKernel Magics",
     "url": "https://metakernel.readthedocs.io/en/latest/source/README.html"
    }
   ],
   "mimetype": "text/x-scala",
   "name": "scala",
   "pygments_lexer": "scala",
   "version": "0.4.1"
  }
 },
 "nbformat": 4,
 "nbformat_minor": 5
}
